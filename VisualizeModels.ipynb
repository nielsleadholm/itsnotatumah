{
 "cells": [
  {
   "cell_type": "code",
   "execution_count": 1,
   "id": "03e2187d-e0da-4cc8-b4ec-aa4eed372163",
   "metadata": {},
   "outputs": [],
   "source": [
    "import os\n",
    "from tbp.monty.frameworks.utils.logging_utils import load_stats\n",
    "\n",
    "import matplotlib.pyplot as plt\n",
    "from tbp.monty.frameworks.utils.plot_utils import plot_graph\n",
    "import numpy as np"
   ]
  },
  {
   "cell_type": "code",
   "execution_count": 2,
   "id": "5467a4f1-cab6-4587-b7ac-7547681de21e",
   "metadata": {},
   "outputs": [],
   "source": [
    "%matplotlib widget"
   ]
  },
  {
   "cell_type": "code",
   "execution_count": 3,
   "id": "42ce9078-ad08-424c-b5da-34157b034680",
   "metadata": {},
   "outputs": [],
   "source": [
    "pretrain_path = os.path.expanduser(\"~/tbp/results/monty/pretrained_models/\")\n",
    "pretrained_dict = pretrain_path + \"pretrained_ycb_v10/surf_agent_1lm_tbp_robot_lab/pretrained/\"\n",
    "\n",
    "log_path = os.path.expanduser(\"~/tbp/results/monty/projects/evidence_eval_runs/logs/\")\n",
    "exp_name = \"json_dataset_ultrasound_learning\"\n",
    "exp_path = log_path + exp_name"
   ]
  },
  {
   "cell_type": "code",
   "execution_count": null,
   "id": "33c7ddb4-fd36-4f09-a915-96b750984797",
   "metadata": {},
   "outputs": [],
   "source": [
    "train_stats, eval_stats, detailed_stats, lm_models = load_stats(exp_path,\n",
    "                                                                load_train=False, # doesn't load train csv\n",
    "                                                                load_eval=False, # loads eval_stats.csv\n",
    "                                                                load_detailed=False, # doesn't load .json\n",
    "                                                                load_models=True, # loads .pt models\n",
    "                                                                pretrained_dict=pretrained_dict,\n",
    "                                                               )"
   ]
  },
  {
   "cell_type": "code",
   "execution_count": null,
   "id": "694c56c2-a57b-45d4-be3b-ae7dae1f1369",
   "metadata": {},
   "outputs": [],
   "source": [
    "model = lm_models['0']['LM_0']['new_object0']['patch']\n",
    "plot_graph(model, rotation=120)\n",
    "plt.show()"
   ]
  },
  {
   "cell_type": "code",
   "execution_count": null,
   "id": "3ad77983-bd4f-4d37-8986-e1e90cb91309",
   "metadata": {},
   "outputs": [],
   "source": [
    "train_stats, eval_stats, detailed_stats, lm_models = load_stats(exp_path,\n",
    "                                                                load_train=False, # doesn't load train csv\n",
    "                                                                load_eval=False, # loads eval_stats.csv\n",
    "                                                                load_detailed=False, # doesn't load .json\n",
    "                                                                load_models=True, # loads .pt models\n",
    "                                                                pretrained_dict=pretrained_dict,\n",
    "                                                               )\n",
    "model = lm_models['0']['LM_0']['new_object0']['patch']\n",
    "locs = np.array(model.pos)\n",
    "normals = np.array(model.norm)"
   ]
  },
  {
   "cell_type": "code",
   "execution_count": 110,
   "id": "8523562e",
   "metadata": {},
   "outputs": [],
   "source": [
    "not_artifacts = np.where(locs[:,2] > -0.7)\n",
    "locs = locs[not_artifacts]\n",
    "normals = normals[not_artifacts]"
   ]
  },
  {
   "cell_type": "code",
   "execution_count": null,
   "id": "0ec391f8-5fc6-4755-a32c-52cf461878cb",
   "metadata": {},
   "outputs": [],
   "source": [
    "fig = plt.figure()\n",
    "ax = fig.add_subplot(1, 1, 1, projection=\"3d\")\n",
    "# color points by id in array\n",
    "colors = np.linspace(0, 1, len(locs))\n",
    "ax.scatter(locs[:,0], locs[:,1], locs[:,2], c=colors)\n",
    "# add point normals to plot\n",
    "ax.quiver(locs[:,0], locs[:,1], locs[:,2], normals[:,0], normals[:,1], normals[:,2], length=0.01, color=\"red\")\n",
    "\n",
    "ax.set_aspect(\"equal\")\n",
    "ax.set_xlabel(\"x\")\n",
    "ax.set_ylabel(\"y\")\n",
    "ax.set_zlabel(\"z\")\n",
    "fig.tight_layout()\n",
    "plt.show()\n"
   ]
  },
  {
   "cell_type": "code",
   "execution_count": null,
   "id": "877b5750",
   "metadata": {},
   "outputs": [],
   "source": [
    "lm_models['pretrained'][0].keys()"
   ]
  },
  {
   "cell_type": "code",
   "execution_count": null,
   "id": "caf71f92",
   "metadata": {},
   "outputs": [],
   "source": [
    "model = lm_models['pretrained'][0]['potted_meat_can']['patch']\n",
    "locs = np.array(model.pos)\n",
    "normals = np.array(model.norm)\n",
    "fig = plt.figure()\n",
    "ax = fig.add_subplot(1, 1, 1, projection=\"3d\")\n",
    "# color points by id in array\n",
    "colors = np.linspace(0, 1, len(locs))\n",
    "ax.scatter(locs[:,0], locs[:,1], locs[:,2], c=colors)\n",
    "# add point normals to plot\n",
    "ax.quiver(locs[:,0], locs[:,1], locs[:,2], normals[:,0], normals[:,1], normals[:,2], length=0.005, color=\"red\")\n",
    "\n",
    "ax.set_aspect(\"equal\")\n",
    "ax.set_xlabel(\"x\")\n",
    "ax.set_ylabel(\"y\")\n",
    "ax.set_zlabel(\"z\")\n",
    "fig.tight_layout()\n",
    "plt.show()"
   ]
  },
  {
   "cell_type": "code",
   "execution_count": 40,
   "id": "e64763cd",
   "metadata": {},
   "outputs": [],
   "source": [
    "tracker_locations = np.load(\"tracker_locations.npy\")\n",
    "tracker_orientations = np.load(\"tracker_orientations.npy\")\n",
    "depths = np.load(\"depths.npy\")\n",
    "fake_normal_rel_world = np.load(\"fake_normal_rel_world.npy\")\n",
    "normal_rel_world = np.load(\"normal_rel_world.npy\")"
   ]
  },
  {
   "cell_type": "code",
   "execution_count": 56,
   "id": "bff3d70a",
   "metadata": {},
   "outputs": [],
   "source": [
    "import quaternion as qt\n",
    "def get_patch_world_location_alt(\n",
    "    agent_position,\n",
    "    sensor_position,\n",
    "    agent_rotation,\n",
    "    image_depth,\n",
    "):\n",
    "    \"\"\"Calculates the patch's location and orientation in world coordinates.\"\"\"\n",
    "    # Move the agent position by sensor_position[1] in the direction of the agent's local Y axis.\n",
    "    # This is because the sensor is offset from the agent's center by sensor_position[1] in the\n",
    "    # local Y axis direction.\n",
    "    offset_direction = np.array([0.0, 0.0, 1.0])\n",
    "    rotated_offset_direction = (\n",
    "        agent_rotation @ offset_direction\n",
    "    )\n",
    "    offset_distance = sensor_position[1]  # = 0.03\n",
    "    relative_offset = offset_distance * rotated_offset_direction\n",
    "    agent_position = agent_position + relative_offset\n",
    "    fake_sensor_rel_world = agent_rotation @ np.array(\n",
    "        [0.0, 1.0, 0.0]\n",
    "    )\n",
    "    # TODO: see how to incorporate the sensor offset in y direction\n",
    "    offset_distance = sensor_position[2] + image_depth\n",
    "\n",
    "    # Determine the movement vector.\n",
    "    # The vector is in the opposite direction of the unit_normal (-unit_normal)\n",
    "    # and scaled by the offset_distance.\n",
    "    movement_vector = -fake_sensor_rel_world * offset_distance\n",
    "\n",
    "    # Compute the new location by applying the movement_vector to the agent's current position.\n",
    "    patch_world_location = agent_position + movement_vector\n",
    "\n",
    "    return patch_world_location"
   ]
  },
  {
   "cell_type": "code",
   "execution_count": null,
   "id": "41a990dd",
   "metadata": {},
   "outputs": [],
   "source": [
    "world_locations = []\n",
    "for i in range(len(tracker_locations)):\n",
    "    world_locations.append(get_patch_world_location_alt(\n",
    "        tracker_locations[i],\n",
    "        [0.0, 0.03, 0.09],\n",
    "        tracker_orientations[i],\n",
    "        depths[i],\n",
    "    ))\n",
    "world_locations = np.array(world_locations)\n",
    "world_locations.shape\n"
   ]
  },
  {
   "cell_type": "code",
   "execution_count": null,
   "id": "fdd80423",
   "metadata": {},
   "outputs": [],
   "source": [
    "\n",
    "locs = np.array(world_locations)\n",
    "normals = np.array(normal_rel_world)\n",
    "fig = plt.figure()\n",
    "ax = fig.add_subplot(1, 1, 1, projection=\"3d\")\n",
    "# color points by id in array\n",
    "colors = np.linspace(0, 1, len(locs))\n",
    "ax.scatter(locs[:,0], locs[:,1], locs[:,2], c=colors)\n",
    "# add point normals to plot\n",
    "ax.quiver(locs[:,0], locs[:,1], locs[:,2], normals[:,0], normals[:,1], normals[:,2], length=0.005, color=\"red\")\n",
    "\n",
    "ax.set_aspect(\"equal\")\n",
    "ax.set_xlabel(\"x\")\n",
    "ax.set_ylabel(\"y\")\n",
    "ax.set_zlabel(\"z\")\n",
    "fig.tight_layout()\n",
    "plt.show()"
   ]
  },
  {
   "cell_type": "code",
   "execution_count": 29,
   "id": "efb744d1",
   "metadata": {},
   "outputs": [],
   "source": [
    "logging_data = np.load('logging_data.npz')"
   ]
  },
  {
   "cell_type": "code",
   "execution_count": null,
   "id": "4b3ddae7",
   "metadata": {},
   "outputs": [],
   "source": [
    "logging_data.files"
   ]
  },
  {
   "cell_type": "code",
   "execution_count": null,
   "id": "7287cfda",
   "metadata": {},
   "outputs": [],
   "source": [
    "logging_data['tracker_position']"
   ]
  },
  {
   "cell_type": "code",
   "execution_count": null,
   "id": "9cfc63c0",
   "metadata": {},
   "outputs": [],
   "source": []
  }
 ],
 "metadata": {
  "kernelspec": {
   "display_name": "Python 3 (ipykernel)",
   "language": "python",
   "name": "python3"
  },
  "language_info": {
   "codemirror_mode": {
    "name": "ipython",
    "version": 3
   },
   "file_extension": ".py",
   "mimetype": "text/x-python",
   "name": "python",
   "nbconvert_exporter": "python",
   "pygments_lexer": "ipython3",
   "version": "3.8.0"
  }
 },
 "nbformat": 4,
 "nbformat_minor": 5
}
